{
 "cells": [
  {
   "cell_type": "code",
   "execution_count": 1,
   "metadata": {},
   "outputs": [],
   "source": [
    "import matplotlib.pyplot as plt\n",
    "from matrix_control import transposeMatrix, printMatrix, reshapeMatrix, sumMatrix\n",
    "from layer import Neuron\n",
    "from model import LinearModel"
   ]
  },
  {
   "cell_type": "code",
   "execution_count": 2,
   "metadata": {},
   "outputs": [],
   "source": [
    "train_image = []\n",
    "sample_num = 14\n",
    "for i in range(sample_num):\n",
    "    train_image.append(plt.imread(fname='image/train/train{}.jpeg'.format(i+1)))"
   ]
  },
  {
   "cell_type": "code",
   "execution_count": 3,
   "metadata": {},
   "outputs": [],
   "source": [
    "label = ['t', 'u', 'v', 'w', 'x', 'y', 'z', 't', 'u', 'v', 'w', 'x', 'y', 'z']"
   ]
  },
  {
   "cell_type": "code",
   "execution_count": 4,
   "metadata": {},
   "outputs": [
    {
     "data": {
      "text/plain": [
       "array([[ 3,  0,  6,  0,  2,  1,  0,  6,  0,  3,  1,  4,  0,  3,  0,  1],\n",
       "       [ 0,  0,  2,  0,  0,  5,  0,  0,  0,  1,  0,  0,  6,  2,  2,  0],\n",
       "       [ 2,  3,  0,  0,  6,  0,  4,  4, 17,  1,  3,  0,  0,  1,  0,  2],\n",
       "       [11, 25,  0,  0,  5,  0,  1, 29, 65,  2,  1,  0, 11, 31,  3,  0],\n",
       "       [10, 48,  3,  5,  0,  3,  1, 49, 66,  3,  0,  2, 35, 34,  1,  0],\n",
       "       [ 1, 42, 25,  0,  1,  1, 19, 42, 36, 16,  0,  2, 47,  5,  0,  5],\n",
       "       [ 0, 16, 44,  1,  6,  0, 41, 19, 31, 31,  0, 12, 47,  1,  2,  2],\n",
       "       [ 2,  0, 44, 20,  0,  5, 50,  3, 24, 29,  3, 29, 29,  2,  3,  0],\n",
       "       [ 0,  0, 11, 47,  4, 17, 40,  0,  7, 47,  3, 45, 11,  2,  0,  2],\n",
       "       [ 0,  2,  2, 35, 24, 35, 22,  1,  0, 39, 17, 47,  4,  0,  2,  0],\n",
       "       [ 2,  0,  1, 13, 59, 49, 12,  0,  1, 32, 54, 43,  0,  0,  5,  0],\n",
       "       [ 2,  0,  4,  0, 55, 36,  4,  0,  1, 20, 74, 24,  0,  1,  4,  0],\n",
       "       [ 0,  5,  1,  0, 11,  8,  0,  2,  0,  6, 44,  5,  0,  2,  0,  1],\n",
       "       [ 0,  2,  2,  1,  0,  0,  2,  0,  0,  3,  0,  2,  5,  0,  0,  0],\n",
       "       [ 0,  0,  4,  0,  7,  4,  6,  0,  4,  4,  0,  4,  5,  0,  2,  0],\n",
       "       [ 0,  2,  2,  1,  0,  4,  0,  6,  0,  0,  9,  0,  0,  0,  4,  0]],\n",
       "      dtype=uint8)"
      ]
     },
     "execution_count": 4,
     "metadata": {},
     "output_type": "execute_result"
    }
   ],
   "source": [
    "train_image[3]"
   ]
  },
  {
   "cell_type": "code",
   "execution_count": 5,
   "metadata": {},
   "outputs": [],
   "source": [
    "input_size = 256\n",
    "hidden_size_1 = 96\n",
    "hidden_size_2 = 48\n",
    "output_size = 7\n",
    "learning_rate = 0.0001"
   ]
  },
  {
   "cell_type": "code",
   "execution_count": 6,
   "metadata": {},
   "outputs": [
    {
     "name": "stdout",
     "output_type": "stream",
     "text": [
      "모델 생성 시작. 입력차원 256개, 1히든차원 96개, 2히든차원 48개, 출력층 7개로, 샘플 개수는 14개 입니다.\n",
      "output size : 96 X 14\n",
      "output size : 48 X 14\n",
      "output size : 7 X 14\n",
      "[[1135.6678194347328], [1230.9906668514645], [1166.8105732506676], [1255.9900011775], [1145.2823739147063], [1206.5049049152783], [1187.9463248780805]]\n",
      "[[0.08743282020910062, 0.09269709691084219, 0.05968845584624745, 0.0573997815533556, 0.08124470570197162, 0.05294984010747239, 0.08339819065719219, 0.019478021059108775, 0.015603829349503674, 0.005739188600945167, 0.08048121225134237, 0.02036502223888752, 0.04419441986770352, 0.07783695048220791, 0.09200163487796875, 0.0066417594526033685, 0.027911724841326892, 0.07187605022500074, 0.05617105997777179, 0.06406274564540058, 0.00010417891717042772, 0.016143735103411383, 0.02573323679494164, 0.08446140590787221, 0.03882676410579721, 0.07286228167148495, 0.06849573000834923, 0.03209030982310092, 0.06185065578987792, 0.0115029132895625, 0.08150991685966802, 0.06357420757726169, 0.07987669037282935, 0.049659653350056836, 0.03994707742759046, 0.021763327641940756, 0.09247278639549242, 0.00899320395015426, 0.04502817542008944, 0.056219375015663646, 0.009415796228370556, 0.007332053798642924, 0.09736169771690194, 0.004841579329754775, 0.032778628948037736, 0.0214915328851084, 0.054215534372936, 0.021396545944809966]]\n",
      "96\n",
      "1\n",
      "7\n",
      "14\n"
     ]
    },
    {
     "ename": "ValueError",
     "evalue": "Number of columns in the first matrix must be equal to the number of rows in the second matrix.",
     "output_type": "error",
     "traceback": [
      "\u001b[1;31m---------------------------------------------------------------------------\u001b[0m",
      "\u001b[1;31mValueError\u001b[0m                                Traceback (most recent call last)",
      "\u001b[1;32mc:\\Users\\whdgus\\Desktop\\project_01\\main.ipynb Cell 6\u001b[0m line \u001b[0;36m2\n\u001b[0;32m      <a href='vscode-notebook-cell:/c%3A/Users/whdgus/Desktop/project_01/main.ipynb#W5sZmlsZQ%3D%3D?line=0'>1</a>\u001b[0m model \u001b[39m=\u001b[39m LinearModel(input_size\u001b[39m=\u001b[39minput_size, hidden_size1\u001b[39m=\u001b[39mhidden_size_1, hidden_size2\u001b[39m=\u001b[39mhidden_size_2, output_size\u001b[39m=\u001b[39moutput_size, sample_num\u001b[39m=\u001b[39msample_num, learning_rate\u001b[39m=\u001b[39mlearning_rate)\n\u001b[1;32m----> <a href='vscode-notebook-cell:/c%3A/Users/whdgus/Desktop/project_01/main.ipynb#W5sZmlsZQ%3D%3D?line=1'>2</a>\u001b[0m model\u001b[39m.\u001b[39;49mforward(train_image, label)\n",
      "File \u001b[1;32mc:\\Users\\whdgus\\Desktop\\project_01\\model.py:44\u001b[0m, in \u001b[0;36mLinearModel.forward\u001b[1;34m(self, X, label)\u001b[0m\n\u001b[0;32m     41\u001b[0m \u001b[39mself\u001b[39m\u001b[39m.\u001b[39mpropagate(X)\n\u001b[0;32m     43\u001b[0m \u001b[39m# 역전파\u001b[39;00m\n\u001b[1;32m---> 44\u001b[0m \u001b[39mself\u001b[39;49m\u001b[39m.\u001b[39;49mbackpropagate(label\u001b[39m=\u001b[39;49mlabel)\n",
      "File \u001b[1;32mc:\\Users\\whdgus\\Desktop\\project_01\\model.py:122\u001b[0m, in \u001b[0;36mLinearModel.backpropagate\u001b[1;34m(self, label)\u001b[0m\n\u001b[0;32m    120\u001b[0m \u001b[39mdef\u001b[39;00m \u001b[39mbackpropagate\u001b[39m(\u001b[39mself\u001b[39m, label):\n\u001b[0;32m    121\u001b[0m     \u001b[39mself\u001b[39m\u001b[39m.\u001b[39mlabeled_list \u001b[39m=\u001b[39m one_hot_encoding(label)\n\u001b[1;32m--> 122\u001b[0m     \u001b[39mself\u001b[39;49m\u001b[39m.\u001b[39;49mchainRule()\n",
      "File \u001b[1;32mc:\\Users\\whdgus\\Desktop\\project_01\\model.py:177\u001b[0m, in \u001b[0;36mLinearModel.chainRule\u001b[1;34m(self)\u001b[0m\n\u001b[0;32m    174\u001b[0m     \u001b[39mprint\u001b[39m(\u001b[39mlen\u001b[39m(dz_3))\n\u001b[0;32m    175\u001b[0m     \u001b[39mprint\u001b[39m(\u001b[39mlen\u001b[39m(dz_3[\u001b[39m0\u001b[39m]))\n\u001b[0;32m    176\u001b[0m     dz_2\u001b[39m.\u001b[39mappend(\n\u001b[1;32m--> 177\u001b[0m         element_wise_multiply(matrixDotProduct(transposeMatrix(\u001b[39mself\u001b[39;49m\u001b[39m.\u001b[39;49mlayer_3[i]\u001b[39m.\u001b[39;49mweight_matrix), dz_3), ReLU_derivatived(\u001b[39mself\u001b[39m\u001b[39m.\u001b[39mhidden_output_2)))\n\u001b[0;32m    178\u001b[0m \u001b[39mprint\u001b[39m(\u001b[39mlen\u001b[39m(dz_2))\n\u001b[0;32m    179\u001b[0m \u001b[39mprint\u001b[39m(\u001b[39mlen\u001b[39m(dz_2[\u001b[39m0\u001b[39m]))\n",
      "File \u001b[1;32mc:\\Users\\whdgus\\Desktop\\project_01\\matrix_control.py:37\u001b[0m, in \u001b[0;36mmatrixDotProduct\u001b[1;34m(matrix1, matrix2)\u001b[0m\n\u001b[0;32m     34\u001b[0m \u001b[39mdef\u001b[39;00m \u001b[39mmatrixDotProduct\u001b[39m(matrix1, matrix2):\n\u001b[0;32m     35\u001b[0m     \u001b[39m# matrix1의 열 수와 matrix2의 행 수가 같은지 확인\u001b[39;00m\n\u001b[0;32m     36\u001b[0m     \u001b[39mif\u001b[39;00m \u001b[39mlen\u001b[39m(matrix1[\u001b[39m0\u001b[39m]) \u001b[39m!=\u001b[39m \u001b[39mlen\u001b[39m(matrix2):\n\u001b[1;32m---> 37\u001b[0m         \u001b[39mraise\u001b[39;00m \u001b[39mValueError\u001b[39;00m(\u001b[39m\"\u001b[39m\u001b[39mNumber of columns in the first matrix must be equal to the number of rows in the second matrix.\u001b[39m\u001b[39m\"\u001b[39m)\n\u001b[0;32m     39\u001b[0m     \u001b[39m# 내적 계산\u001b[39;00m\n\u001b[0;32m     40\u001b[0m     result \u001b[39m=\u001b[39m []\n",
      "\u001b[1;31mValueError\u001b[0m: Number of columns in the first matrix must be equal to the number of rows in the second matrix."
     ]
    }
   ],
   "source": [
    "model = LinearModel(input_size=input_size, hidden_size1=hidden_size_1, hidden_size2=hidden_size_2, output_size=output_size, sample_num=sample_num, learning_rate=learning_rate)\n",
    "model.forward(train_image, label)"
   ]
  }
 ],
 "metadata": {
  "kernelspec": {
   "display_name": "Python 3",
   "language": "python",
   "name": "python3"
  },
  "language_info": {
   "codemirror_mode": {
    "name": "ipython",
    "version": 3
   },
   "file_extension": ".py",
   "mimetype": "text/x-python",
   "name": "python",
   "nbconvert_exporter": "python",
   "pygments_lexer": "ipython3",
   "version": "3.8.10"
  }
 },
 "nbformat": 4,
 "nbformat_minor": 2
}
